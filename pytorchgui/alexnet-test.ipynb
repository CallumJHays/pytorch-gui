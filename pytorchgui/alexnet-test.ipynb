{
 "cells": [
  {
   "cell_type": "code",
   "execution_count": 1,
   "metadata": {
    "collapsed": true
   },
   "outputs": [],
   "source": [
    "from torch.utils.data import DataLoader\n",
    "import torchvision\n",
    "import torchvision.transforms as transform\n",
    "import pytorchgui\n",
    "from torch.autograd import Variable"
   ]
  },
  {
   "cell_type": "code",
   "execution_count": 2,
   "metadata": {},
   "outputs": [
    {
     "name": "stdout",
     "output_type": "stream",
     "text": [
      "Files already downloaded and verified\n"
     ]
    }
   ],
   "source": [
    "alexnet = torchvision.models.alexnet(pretrained=True)\n",
    "\n",
    "cifar10loader = DataLoader(\n",
    "    torchvision.datasets.CIFAR10(\n",
    "        \"./cifar10/\",\n",
    "        download=True,\n",
    "        transform=transform.Compose([\n",
    "            transform.Scale(224),  # Needed by pytorch models\n",
    "            transform.ToTensor(),\n",
    "            transform.Normalize(mean=[0.485, 0.456, 0.406],\n",
    "                                std=[0.229, 0.224, 0.225])\n",
    "        ])\n",
    "    )\n",
    ")"
   ]
  },
  {
   "cell_type": "code",
   "execution_count": 3,
   "metadata": {},
   "outputs": [
    {
     "name": "stdout",
     "output_type": "stream",
     "text": [
      "(Variable containing:\n",
      "( 0 , 0 ,.,.) = \n",
      " -1.1075 -1.1075 -1.1075  ...   0.4166  0.4166  0.4166\n",
      " -1.1075 -1.1075 -1.1075  ...   0.4166  0.4166  0.4166\n",
      " -1.1075 -1.1075 -1.1075  ...   0.4166  0.4166  0.4166\n",
      "           ...             ⋱             ...          \n",
      "  0.9132  0.9132  0.9132  ...  -0.0116 -0.0116 -0.0116\n",
      "  0.9132  0.9132  0.9132  ...  -0.0116 -0.0116 -0.0116\n",
      "  0.9132  0.9132  0.9132  ...  -0.0116 -0.0116 -0.0116\n",
      "\n",
      "( 0 , 1 ,.,.) = \n",
      " -0.9503 -0.9503 -0.9503  ...   0.1352  0.1352  0.1352\n",
      " -0.9503 -0.9503 -0.9503  ...   0.1352  0.1352  0.1352\n",
      " -0.9503 -0.9503 -0.9503  ...   0.1352  0.1352  0.1352\n",
      "           ...             ⋱             ...          \n",
      "  0.4853  0.4853  0.4853  ...  -0.4251 -0.4251 -0.4251\n",
      "  0.4853  0.4853  0.4853  ...  -0.4251 -0.4251 -0.4251\n",
      "  0.4853  0.4853  0.4853  ...  -0.4251 -0.4251 -0.4251\n",
      "\n",
      "( 0 , 2 ,.,.) = \n",
      " -0.7064 -0.7064 -0.7064  ...  -0.0092 -0.0092 -0.0092\n",
      " -0.7064 -0.7064 -0.7064  ...  -0.0092 -0.0092 -0.0092\n",
      " -0.7064 -0.7064 -0.7064  ...  -0.0092 -0.0092 -0.0092\n",
      "           ...             ⋱             ...          \n",
      "  0.2173  0.2173  0.2173  ...  -0.5495 -0.5495 -0.5495\n",
      "  0.2173  0.2173  0.2173  ...  -0.5495 -0.5495 -0.5495\n",
      "  0.2173  0.2173  0.2173  ...  -0.5495 -0.5495 -0.5495\n",
      "[torch.FloatTensor of size 1x3x224x224]\n",
      ",)\n"
     ]
    },
    {
     "name": "stderr",
     "output_type": "stream",
     "text": [
      "2017-06-08 13:55:11 - (sanic)[DEBUG]: \n",
      "                 ▄▄▄▄▄\n",
      "        ▀▀▀██████▄▄▄       _______________\n",
      "      ▄▄▄▄▄  █████████▄  /                 \\\n",
      "     ▀▀▀▀█████▌ ▀▐▄ ▀▐█ |   Gotta go fast!  |\n",
      "   ▀▀█████▄▄ ▀██████▄██ | _________________/\n",
      "   ▀▄▄▄▄▄  ▀▀█▄▀█════█▀ |/\n",
      "        ▀▀▀▄  ▀▀███ ▀       ▄▄\n",
      "     ▄███▀▀██▄████████▄ ▄▀▀▀▀▀▀█▌\n",
      "   ██▀▄▄▄██▀▄███▀ ▀▀████      ▄██\n",
      "▄▀▀▀▄██▄▀▀▌████▒▒▒▒▒▒███     ▌▄▄▀\n",
      "▌    ▐▀████▐███▒▒▒▒▒▐██▌\n",
      "▀▄▄▄▄▀   ▀▀████▒▒▒▒▄██▀\n",
      "          ▀▀█████████▀\n",
      "        ▄▄██▀██████▀█\n",
      "      ▄██▀     ▀▀▀  █\n",
      "     ▄█             ▐▌\n",
      " ▄▄▄▄█▌              ▀█▄▄▄▄▀▀▄\n",
      "▌     ▐                ▀▀▄▄▄▀\n",
      " ▀▀▄▄▀\n",
      "\n",
      "2017-06-08 13:55:11 - (sanic)[INFO]: Goin' Fast @ http://0.0.0.0:7060\n",
      "2017-06-08 13:55:11 - (sanic)[INFO]: Starting worker [25322]\n",
      "2017-06-08 13:55:11 - (network)[INFO][127.0.0.1:40582]: GET http://0.0.0.0:7060/api/v1/graph_spec  200 4462\n",
      "2017-06-08 13:56:11 - (sanic)[ERROR]: Transport closed @ ('127.0.0.1', 40582) and exception experienced during error handling\n",
      "2017-06-08 13:56:11 - (sanic)[DEBUG]: Exception:\n",
      "Traceback (most recent call last):\n",
      "  File \"/home/callumjhays/miniconda3/lib/python3.6/site-packages/sanic_cors/extension.py\", line 175, in wrapped_function\n",
      "    path = req.path\n",
      "AttributeError: 'NoneType' object has no attribute 'path'\n",
      "\n",
      "During handling of the above exception, another exception occurred:\n",
      "\n",
      "Traceback (most recent call last):\n",
      "  File \"/home/callumjhays/miniconda3/lib/python3.6/site-packages/sanic/server.py\", line 272, in write_error\n",
      "    response = self.error_handler.response(self.request, exception)\n",
      "  File \"/home/callumjhays/miniconda3/lib/python3.6/site-packages/sanic_cors/extension.py\", line 177, in wrapped_function\n",
      "    path = req.url\n",
      "AttributeError: 'NoneType' object has no attribute 'url'\n",
      "\n",
      "2017-06-08 13:56:28 - (sanic)[INFO]: Stopping worker [25322]\n",
      "2017-06-08 13:56:28 - (sanic)[INFO]: Server Stopped\n"
     ]
    }
   ],
   "source": [
    "graph = pytorchgui.Graph(alexnet, cifar10loader)\n",
    "\n",
    "# this needs to be called to populate the graph for the first time.\n",
    "# if 'cifar10loader' or another data-loader is not provided, the\n",
    "# inputs must be provided to instrumented_forward\n",
    "graph.instrumented_forward()\n",
    "graph.serve()"
   ]
  }
 ],
 "metadata": {
  "kernelspec": {
   "display_name": "Python 3",
   "language": "python",
   "name": "python3"
  },
  "language_info": {
   "codemirror_mode": {
    "name": "ipython",
    "version": 3
   },
   "file_extension": ".py",
   "mimetype": "text/x-python",
   "name": "python",
   "nbconvert_exporter": "python",
   "pygments_lexer": "ipython3",
   "version": "3.6.0"
  }
 },
 "nbformat": 4,
 "nbformat_minor": 2
}
