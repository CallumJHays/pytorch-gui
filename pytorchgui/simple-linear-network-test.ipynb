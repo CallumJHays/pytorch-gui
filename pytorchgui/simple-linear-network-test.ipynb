{
 "cells": [
  {
   "cell_type": "code",
   "execution_count": 1,
   "metadata": {
    "collapsed": true
   },
   "outputs": [],
   "source": [
    "import torch.nn as nn\n",
    "from torch import Tensor\n",
    "from torch.autograd import Variable\n",
    "import numpy as np\n",
    "import pytorchgui"
   ]
  },
  {
   "cell_type": "code",
   "execution_count": null,
   "metadata": {
    "collapsed": true
   },
   "outputs": [],
   "source": [
    "class SimpleLinearNetwork(nn.Module):\n",
    "    def __init__(self):\n",
    "        super(SimpleLinearNetwork, self).__init__()\n",
    "        self.linear1 = nn.Linear(1, 128)\n",
    "        self.linear2 = nn.Linear(128, 1)\n",
    "\n",
    "    def forward(self, x):\n",
    "        x = self.linear1(x)\n",
    "        x = self.linear2(x)\n",
    "        x = nn.functional.relu(x)\n",
    "        return x * 55"
   ]
  },
  {
   "cell_type": "code",
   "execution_count": null,
   "metadata": {},
   "outputs": [
    {
     "name": "stderr",
     "output_type": "stream",
     "text": [
      "2017-06-08 13:57:34 - (sanic)[DEBUG]: \n",
      "                 ▄▄▄▄▄\n",
      "        ▀▀▀██████▄▄▄       _______________\n",
      "      ▄▄▄▄▄  █████████▄  /                 \\\n",
      "     ▀▀▀▀█████▌ ▀▐▄ ▀▐█ |   Gotta go fast!  |\n",
      "   ▀▀█████▄▄ ▀██████▄██ | _________________/\n",
      "   ▀▄▄▄▄▄  ▀▀█▄▀█════█▀ |/\n",
      "        ▀▀▀▄  ▀▀███ ▀       ▄▄\n",
      "     ▄███▀▀██▄████████▄ ▄▀▀▀▀▀▀█▌\n",
      "   ██▀▄▄▄██▀▄███▀ ▀▀████      ▄██\n",
      "▄▀▀▀▄██▄▀▀▌████▒▒▒▒▒▒███     ▌▄▄▀\n",
      "▌    ▐▀████▐███▒▒▒▒▒▐██▌\n",
      "▀▄▄▄▄▀   ▀▀████▒▒▒▒▄██▀\n",
      "          ▀▀█████████▀\n",
      "        ▄▄██▀██████▀█\n",
      "      ▄██▀     ▀▀▀  █\n",
      "     ▄█             ▐▌\n",
      " ▄▄▄▄█▌              ▀█▄▄▄▄▀▀▄\n",
      "▌     ▐                ▀▀▄▄▄▀\n",
      " ▀▀▄▄▀\n",
      "\n",
      "2017-06-08 13:57:34 - (sanic)[INFO]: Goin' Fast @ http://0.0.0.0:7060\n",
      "2017-06-08 13:57:34 - (sanic)[INFO]: Starting worker [25651]\n"
     ]
    },
    {
     "name": "stdout",
     "output_type": "stream",
     "text": [
      "(Variable containing:\n",
      " 0.6038\n",
      "[torch.FloatTensor of size 1x1]\n",
      ",)\n"
     ]
    },
    {
     "name": "stderr",
     "output_type": "stream",
     "text": [
      "2017-06-08 13:57:35 - (network)[INFO][127.0.0.1:40732]: GET http://0.0.0.0:7060/api/v1/graph_spec  200 1011\n"
     ]
    }
   ],
   "source": [
    "test_data = Variable(Tensor(np.random.rand(1, 1)))\n",
    "graph = pytorchgui.Graph(SimpleLinearNetwork())\n",
    "\n",
    "# this needs to be called to populate the graph for the first time.\n",
    "graph.instrumented_forward(test_data)\n",
    "graph.serve()"
   ]
  }
 ],
 "metadata": {
  "kernelspec": {
   "display_name": "Python 3",
   "language": "python",
   "name": "python3"
  },
  "language_info": {
   "codemirror_mode": {
    "name": "ipython",
    "version": 3
   },
   "file_extension": ".py",
   "mimetype": "text/x-python",
   "name": "python",
   "nbconvert_exporter": "python",
   "pygments_lexer": "ipython3",
   "version": "3.6.0"
  }
 },
 "nbformat": 4,
 "nbformat_minor": 2
}
