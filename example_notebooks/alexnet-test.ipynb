{
 "cells": [
  {
   "cell_type": "code",
   "execution_count": 1,
   "metadata": {},
   "outputs": [],
   "source": [
    "from torch.utils.data import DataLoader\n",
    "import torchvision\n",
    "import torchvision.transforms as transform\n",
    "import pytorchgui\n",
    "from torch.autograd import Variable"
   ]
  },
  {
   "cell_type": "code",
   "execution_count": 2,
   "metadata": {},
   "outputs": [
    {
     "name": "stdout",
     "output_type": "stream",
     "text": [
      "Files already downloaded and verified\n"
     ]
    }
   ],
   "source": [
    "alexnet = torchvision.models.alexnet(pretrained=True)\n",
    "\n",
    "cifar10loader = DataLoader(\n",
    "    torchvision.datasets.CIFAR10(\n",
    "        \"./cifar10/\",\n",
    "        download=True,\n",
    "        transform=transform.Compose([\n",
    "            transform.Scale(224),  # Needed by pytorch models\n",
    "            transform.ToTensor(),\n",
    "            transform.Normalize(mean=[0.485, 0.456, 0.406],\n",
    "                                std=[0.229, 0.224, 0.225])\n",
    "        ])\n",
    "    )\n",
    ")"
   ]
  },
  {
   "cell_type": "code",
   "execution_count": 3,
   "metadata": {},
   "outputs": [
    {
     "name": "stderr",
     "output_type": "stream",
     "text": [
      "2017-06-09 13:09:15,429: INFO: Goin' Fast @ http://0.0.0.0:7060\n",
      "2017-06-09 13:09:15,474: INFO: Starting worker [24879]\n"
     ]
    },
    {
     "data": {
      "text/html": [
       "<iframe src='http://0.0.0.0:7060' width='800px' scrolling='no' height='500px' style='background-color:white; overflow: hidden;'></iframe>"
      ],
      "text/plain": [
       "<IPython.core.display.HTML object>"
      ]
     },
     "metadata": {},
     "output_type": "display_data"
    },
    {
     "name": "stderr",
     "output_type": "stream",
     "text": [
      "2017-06-09 13:10:16,328: ERROR: Transport closed @ ('127.0.0.1', 59548) and exception experienced during error handling\n",
      "2017-06-09 13:10:16,880: ERROR: Transport closed @ ('127.0.0.1', 59560) and exception experienced during error handling\n"
     ]
    }
   ],
   "source": [
    "graph = pytorchgui.Graph(alexnet, cifar10loader)\n",
    "\n",
    "# this needs to be called to populate the graph for the first time.\n",
    "# if 'cifar10loader' or another data-loader is not provided, the\n",
    "# inputs must be provided to instrumented_forward\n",
    "graph.instrumented_forward()\n",
    "graph.serve()"
   ]
  }
 ],
 "metadata": {
  "kernelspec": {
   "display_name": "Python 3",
   "language": "python",
   "name": "python3"
  },
  "language_info": {
   "codemirror_mode": {
    "name": "ipython",
    "version": 3
   },
   "file_extension": ".py",
   "mimetype": "text/x-python",
   "name": "python",
   "nbconvert_exporter": "python",
   "pygments_lexer": "ipython3",
   "version": "3.6.0"
  }
 },
 "nbformat": 4,
 "nbformat_minor": 2
}
