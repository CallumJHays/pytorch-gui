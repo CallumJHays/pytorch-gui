{
 "cells": [
  {
   "cell_type": "code",
   "execution_count": 1,
   "metadata": {
    "collapsed": true
   },
   "outputs": [],
   "source": [
    "import torch.nn as nn\n",
    "from torch import Tensor\n",
    "from torch.autograd import Variable\n",
    "import numpy as np\n",
    "import pytorchgui"
   ]
  },
  {
   "cell_type": "code",
   "execution_count": 2,
   "metadata": {
    "collapsed": true
   },
   "outputs": [],
   "source": [
    "class SimpleLinearNetwork(nn.Module):\n",
    "    def __init__(self):\n",
    "        super(SimpleLinearNetwork, self).__init__()\n",
    "        self.linear1 = nn.Linear(1, 128)\n",
    "        self.linear2 = nn.Linear(128, 1)\n",
    "\n",
    "    def forward(self, x):\n",
    "        x = nn.Sequential(\n",
    "            self.linear1,\n",
    "            self.linear2,\n",
    "            nn.ReLU()\n",
    "        )(x)\n",
    "        return x * 55"
   ]
  },
  {
   "cell_type": "code",
   "execution_count": 3,
   "metadata": {},
   "outputs": [
    {
     "name": "stdout",
     "output_type": "stream",
     "text": [
      "g\n"
     ]
    },
    {
     "name": "stderr",
     "output_type": "stream",
     "text": [
      "2017-06-09 16:14:54,198: INFO: Goin' Fast @ http://0.0.0.0:7060\n",
      "2017-06-09 16:14:54,220: INFO: Starting worker [11169]\n"
     ]
    },
    {
     "data": {
      "text/html": [
       "<iframe src='http://0.0.0.0:7060' width='800px' scrolling='no' height='500px' style='background-color:white; overflow: hidden;'></iframe>"
      ],
      "text/plain": [
       "<IPython.core.display.HTML object>"
      ]
     },
     "metadata": {},
     "output_type": "display_data"
    },
    {
     "name": "stderr",
     "output_type": "stream",
     "text": [
      "2017-06-09 16:15:55,158: ERROR: Transport closed @ ('127.0.0.1', 55326) and exception experienced during error handling\n",
      "2017-06-09 16:15:55,829: ERROR: Transport closed @ ('127.0.0.1', 55334) and exception experienced during error handling\n",
      "2017-06-09 16:16:00,284: INFO: Stopping worker [11169]\n",
      "2017-06-09 16:16:00,287: INFO: Server Stopped\n"
     ]
    }
   ],
   "source": [
    "test_data = Variable(Tensor(np.random.rand(1, 1)))\n",
    "graph = pytorchgui.Graph(SimpleLinearNetwork())\n",
    "\n",
    "# this needs to be called to populate the graph for the first time.\n",
    "graph.instrumented_forward(test_data)\n",
    "graph.serve()"
   ]
  }
 ],
 "metadata": {
  "kernelspec": {
   "display_name": "Python 3",
   "language": "python",
   "name": "python3"
  },
  "language_info": {
   "codemirror_mode": {
    "name": "ipython",
    "version": 3
   },
   "file_extension": ".py",
   "mimetype": "text/x-python",
   "name": "python",
   "nbconvert_exporter": "python",
   "pygments_lexer": "ipython3",
   "version": "3.6.0"
  }
 },
 "nbformat": 4,
 "nbformat_minor": 2
}
